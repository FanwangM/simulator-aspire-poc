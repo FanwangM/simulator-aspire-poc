{
 "cells": [
  {
   "cell_type": "code",
   "execution_count": 1,
   "metadata": {},
   "outputs": [],
   "source": [
    "import os\n",
    "import json\n",
    "import time\n",
    "from collections import OrderedDict\n",
    "\n",
    "import pandas as pd\n",
    "import numpy as np\n",
    "import matplotlib.pyplot as plt\n",
    "\n",
    "import itertools as it\n",
    "from reaction_network.fjss import FJS2\n",
    "import plotly.express as px\n",
    "from reaction_network.utils import *"
   ]
  },
  {
   "cell_type": "code",
   "execution_count": 2,
   "metadata": {},
   "outputs": [],
   "source": [
    "# automatically reimport modules when they change\n",
    "%load_ext autoreload"
   ]
  },
  {
   "cell_type": "markdown",
   "metadata": {},
   "source": [
    "## A minimal example of how to use the FJS2 class"
   ]
  },
  {
   "cell_type": "code",
   "execution_count": 3,
   "metadata": {},
   "outputs": [],
   "source": [
    "# set up the input data\n",
    "\n",
    "# minimum lag time\n",
    "para_lmin = np.full((5, 5), fill_value=-np.inf)\n",
    "para_lmin[0, 1] = 2\n",
    "para_lmin[2, 3] = 2\n",
    "para_lmin[3, 4] = 2\n",
    "# para_lmin\n",
    "\n",
    "# maximum lag time\n",
    "para_lmax = np.full((5, 5), fill_value=np.inf)\n",
    "para_lmax[0, 1] = 5\n",
    "para_lmax[2, 3] = 5\n",
    "para_lmax[3, 4] = 5\n",
    "\n",
    "# para_p\n",
    "para_p = np.full((5, 3), fill_value=np.inf)\n",
    "for i in [idx - 1 for idx in [1, 3, 5]]:\n",
    "    for m in [idx - 1 for idx in [1, 3]]:\n",
    "        para_p[i, m] = 5\n",
    "\n",
    "for i in [idx - 1 for idx in [2, 4]]:\n",
    "    for m in [1]:\n",
    "        para_p[i, m] = 10\n",
    "\n",
    "para_h = np.full((5, 3), fill_value=2)\n",
    "\n",
    "# para_w\n",
    "para_w = np.full((5, 3), fill_value=1)\n",
    "\n",
    "# para_a, a_mij\n",
    "para_a = np.full((3, 5, 5), fill_value=-np.inf)\n",
    "para_a[0, 0, 4] = 5\n",
    "para_a[0, 4, 0] = 5\n",
    "\n",
    "# para_mach_capacity\n",
    "para_mach_capacity = np.array([2, 2, 2])\n",
    "\n",
    "# para_delta\n",
    "para_delta = np.array([1, 1, 1])"
   ]
  },
  {
   "cell_type": "code",
   "execution_count": 4,
   "metadata": {},
   "outputs": [
    {
     "name": "stdout",
     "output_type": "stream",
     "text": [
      "operations: OrderedDict([('0', '0'), ('1', '1'), ('2', '2'), ('3', '3'), ('4', '4')])\n",
      "machines: OrderedDict([('0', '0'), ('1', '1'), ('2', '2')])\n"
     ]
    }
   ],
   "source": [
    "num_operations = 5\n",
    "num_machines = 3\n",
    "\n",
    "operations = {str(i): str(i) for i in range(num_operations)}\n",
    "operations = OrderedDict(sorted(operations.items(), key=lambda x: int(x[0])))\n",
    "\n",
    "machines = {str(i): str(i) for i in range(num_machines)}\n",
    "machines = OrderedDict(sorted(machines.items(), key=lambda x: int(x[0])))\n",
    "\n",
    "print(f\"operations: {operations}\")\n",
    "print(f\"machines: {machines}\")"
   ]
  },
  {
   "cell_type": "code",
   "execution_count": 5,
   "metadata": {},
   "outputs": [],
   "source": [
    "# the job information\n",
    "operation_job_dict = {\n",
    "    \"0\": \"1\",\n",
    "    \"1\": \"1\",\n",
    "    \"2\": \"2\",\n",
    "    \"3\": \"2\",\n",
    "    \"4\": \"2\",\n",
    "}\n",
    "\n",
    "job_operation_dict = {\n",
    "    \"1\": [\"0\", \"1\"],\n",
    "    \"2\": [\"2\", \"3\", \"4\"],\n",
    "}"
   ]
  },
  {
   "cell_type": "code",
   "execution_count": 6,
   "metadata": {},
   "outputs": [],
   "source": [
    "# this function ensure the shape of para_a is correct\n",
    "para_a = check_fix_shape_of_para_a(para_p, para_a, intended_for=\"milp\")\n",
    "\n",
    "# para_a[4, 0, 0]"
   ]
  },
  {
   "cell_type": "code",
   "execution_count": 7,
   "metadata": {},
   "outputs": [
    {
     "name": "stdout",
     "output_type": "stream",
     "text": [
      "solve the MILP problem with FJSS4_v2\n",
      "the inferred big_m value with Runzhong version is 54.0\n",
      "Set parameter Username\n",
      "Academic license - for non-commercial use only - expires 2025-01-27\n"
     ]
    },
    {
     "name": "stdout",
     "output_type": "stream",
     "text": [
      "Gurobi Optimizer version 11.0.0 build v11.0.0rc2 (linux64 - \"Ubuntu 20.04.4 LTS\")\n",
      "\n",
      "CPU model: AMD Ryzen Threadripper PRO 3995WX 64-Cores, instruction set [SSE2|AVX|AVX2]\n",
      "Thread count: 64 physical cores, 128 logical processors, using up to 32 threads\n",
      "\n",
      "Optimize a model with 315 rows, 126 columns and 1490 nonzeros\n",
      "Model fingerprint: 0xbaa8f606\n",
      "Variable types: 11 continuous, 115 integer (115 binary)\n",
      "Coefficient statistics:\n",
      "  Matrix range     [1e+00, 1e+07]\n",
      "  Objective range  [1e+00, 1e+00]\n",
      "  Bounds range     [1e-05, 1e+00]\n",
      "  RHS range        [1e+00, 1e+07]\n",
      "Found heuristic solution: objective 24.0000000\n",
      "Presolve removed 52 rows and 70 columns\n",
      "Presolve time: 0.01s\n",
      "Presolved: 263 rows, 56 columns, 960 nonzeros\n",
      "Variable types: 11 continuous, 45 integer (45 binary)\n",
      "\n",
      "Explored 0 nodes (0 simplex iterations) in 0.02 seconds (0.00 work units)\n",
      "Thread count was 32 (of 128 available processors)\n",
      "\n",
      "Solution count 1: 24 \n",
      "\n",
      "Optimal solution found (tolerance 1.00e-04)\n",
      "Best objective 2.400000000000e+01, best bound 2.400000000000e+01, gap 0.0000%\n",
      "the solution is : 24.0\n"
     ]
    }
   ],
   "source": [
    "# solve the case study in the original with FJS2\n",
    "infinity = 1.0e7\n",
    "verbose = True\n",
    "new_row = OrderedDict()\n",
    "\n",
    "new_row[\"n_opt\"] = num_operations\n",
    "new_row[\"n_mach\"] = num_machines\n",
    "\n",
    "print(\"solve the MILP problem with FJSS4_v2\")\n",
    "# check the running time\n",
    "start_time = time.time()\n",
    "fjss2 = FJS2(\n",
    "    operations=operations,\n",
    "    machines=machines,\n",
    "    para_p=para_p,\n",
    "    para_a=para_a,\n",
    "    para_w=para_w,\n",
    "    para_h=para_h,\n",
    "    para_delta=para_delta,\n",
    "    para_mach_capacity=para_mach_capacity,\n",
    "    para_lmin=para_lmin,\n",
    "    para_lmax=para_lmax,\n",
    "    model_string=None,\n",
    "    inf_milp=infinity,\n",
    "    workshifts=None,\n",
    "    # workshifts=[(900, 120)] * 5,\n",
    "    # workshifts=[(100, 20)] * 1,\n",
    "    operations_subset_indices=None,\n",
    "    num_workers=None,\n",
    "    verbose=verbose,\n",
    "    big_m=None,\n",
    ")\n",
    "fjss2.build_model_gurobi()\n",
    "fjss4_output = fjss2.solve_gurobi()\n",
    "end_time = time.time()\n",
    "running_time_seconds = end_time - start_time\n",
    "new_row[\"running_time_seconds\"] = running_time_seconds"
   ]
  },
  {
   "cell_type": "code",
   "execution_count": 8,
   "metadata": {},
   "outputs": [
    {
     "name": "stdout",
     "output_type": "stream",
     "text": [
      "number of solutions = 1\n"
     ]
    }
   ],
   "source": [
    "# get the number of solutions\n",
    "num_solutions = fjss2.model.SolCount\n",
    "print(f\"number of solutions = {num_solutions}\")"
   ]
  },
  {
   "cell_type": "code",
   "execution_count": 9,
   "metadata": {},
   "outputs": [
    {
     "name": "stdout",
     "output_type": "stream",
     "text": [
      "(1, 1)\n",
      "(2, 2)\n",
      "(3, 3)\n",
      "(4, 2)\n",
      "(5, 1)\n",
      "[ 0  8  0  7 19]\n",
      "[ 5 18  5 17 24]\n"
     ]
    }
   ],
   "source": [
    "# exammine the first solution\n",
    "fjss2.model.setParam(\"SolutionNumber\", 0)\n",
    "fjss2.var_y.Xn.astype(int)\n",
    "\n",
    "# find the indices for values that are not equal to zero\n",
    "# print out the indices with the format (i, j)\n",
    "indices = np.where(fjss2.var_y.Xn.astype(int) != 0)\n",
    "indices = list(zip(indices[0], indices[1]))\n",
    "for idx in indices:\n",
    "    print(f\"({idx[0]+1}, {idx[1]+1})\")\n",
    "\n",
    "print(fjss2.var_s.Xn.astype(int))\n",
    "print(fjss2.var_c.Xn.astype(int))"
   ]
  },
  {
   "cell_type": "code",
   "execution_count": 10,
   "metadata": {},
   "outputs": [],
   "source": [
    "model = fjss2.model\n",
    "# get the number of constraints\n",
    "new_row[\"num_constraints\"] = model.NumConstrs\n",
    "# get the number of variables\n",
    "new_row[\"num_variables\"] = model.NumVars\n",
    "# makespan\n",
    "makespan = model.objVal\n",
    "new_row[\"makespan\"] = makespan\n",
    "var_x = fjss2.var_x.X\n",
    "var_y = fjss2.var_y.X\n",
    "var_z = fjss2.var_z.X\n",
    "var_s = fjss2.var_s.X\n",
    "var_c = fjss2.var_c.X\n",
    "var_c_max = fjss2.var_c_max.X\n",
    "big_m = fjss2.big_m"
   ]
  },
  {
   "cell_type": "code",
   "execution_count": 11,
   "metadata": {},
   "outputs": [
    {
     "data": {
      "text/plain": [
       "array([ 0.,  8.,  0.,  7., 19.])"
      ]
     },
     "execution_count": 11,
     "metadata": {},
     "output_type": "execute_result"
    }
   ],
   "source": [
    "var_s"
   ]
  },
  {
   "cell_type": "code",
   "execution_count": 12,
   "metadata": {},
   "outputs": [
    {
     "data": {
      "text/plain": [
       "array([ 5., 18.,  5., 17., 24.])"
      ]
     },
     "execution_count": 12,
     "metadata": {},
     "output_type": "execute_result"
    }
   ],
   "source": [
    "var_c"
   ]
  },
  {
   "cell_type": "code",
   "execution_count": 13,
   "metadata": {},
   "outputs": [
    {
     "data": {
      "text/plain": [
       "array([ 5., 10.,  5., 10.,  5.])"
      ]
     },
     "execution_count": 13,
     "metadata": {},
     "output_type": "execute_result"
    }
   ],
   "source": [
    "var_c - var_s"
   ]
  },
  {
   "cell_type": "code",
   "execution_count": 14,
   "metadata": {},
   "outputs": [
    {
     "data": {
      "text/html": [
       "<div>\n",
       "<style scoped>\n",
       "    .dataframe tbody tr th:only-of-type {\n",
       "        vertical-align: middle;\n",
       "    }\n",
       "\n",
       "    .dataframe tbody tr th {\n",
       "        vertical-align: top;\n",
       "    }\n",
       "\n",
       "    .dataframe thead th {\n",
       "        text-align: right;\n",
       "    }\n",
       "</style>\n",
       "<table border=\"1\" class=\"dataframe\">\n",
       "  <thead>\n",
       "    <tr style=\"text-align: right;\">\n",
       "      <th></th>\n",
       "      <th>Task</th>\n",
       "      <th>Resource</th>\n",
       "      <th>Start</th>\n",
       "      <th>Finish</th>\n",
       "      <th>operation</th>\n",
       "      <th>Delta</th>\n",
       "    </tr>\n",
       "  </thead>\n",
       "  <tbody>\n",
       "    <tr>\n",
       "      <th>2</th>\n",
       "      <td>2</td>\n",
       "      <td>3</td>\n",
       "      <td>0.0</td>\n",
       "      <td>5.0</td>\n",
       "      <td>3</td>\n",
       "      <td>5.0</td>\n",
       "    </tr>\n",
       "    <tr>\n",
       "      <th>3</th>\n",
       "      <td>2</td>\n",
       "      <td>2</td>\n",
       "      <td>7.0</td>\n",
       "      <td>17.0</td>\n",
       "      <td>4</td>\n",
       "      <td>10.0</td>\n",
       "    </tr>\n",
       "    <tr>\n",
       "      <th>4</th>\n",
       "      <td>2</td>\n",
       "      <td>1</td>\n",
       "      <td>19.0</td>\n",
       "      <td>24.0</td>\n",
       "      <td>5</td>\n",
       "      <td>5.0</td>\n",
       "    </tr>\n",
       "    <tr>\n",
       "      <th>0</th>\n",
       "      <td>1</td>\n",
       "      <td>1</td>\n",
       "      <td>0.0</td>\n",
       "      <td>5.0</td>\n",
       "      <td>1</td>\n",
       "      <td>5.0</td>\n",
       "    </tr>\n",
       "    <tr>\n",
       "      <th>1</th>\n",
       "      <td>1</td>\n",
       "      <td>2</td>\n",
       "      <td>8.0</td>\n",
       "      <td>18.0</td>\n",
       "      <td>2</td>\n",
       "      <td>10.0</td>\n",
       "    </tr>\n",
       "  </tbody>\n",
       "</table>\n",
       "</div>"
      ],
      "text/plain": [
       "  Task Resource Start Finish operation Delta\n",
       "2    2        3   0.0    5.0         3   5.0\n",
       "3    2        2   7.0   17.0         4  10.0\n",
       "4    2        1  19.0   24.0         5   5.0\n",
       "0    1        1   0.0    5.0         1   5.0\n",
       "1    1        2   8.0   18.0         2  10.0"
      ]
     },
     "execution_count": 14,
     "metadata": {},
     "output_type": "execute_result"
    }
   ],
   "source": [
    "# exam the solution\n",
    "assignments = dict()\n",
    "start_times = dict()\n",
    "end_times = dict()\n",
    "solved_operations = []\n",
    "\n",
    "# based on https://github.com/FanwangM/solver_checking/blob/6d596f4741482e511f29680b991a0d5c0228391a/debugging_CP.ipynb#L2133\n",
    "df = pd.DataFrame(\n",
    "    # columns=[\"operation\", \"Resource\", \"Start\", \"Finish\"]\n",
    "    columns=[\"Task\", \"Resource\", \"Start\", \"Finish\"]\n",
    ")\n",
    "\n",
    "operations_ids = list(fjss2.operations.keys())\n",
    "machine_ids = list(fjss2.machines.keys())\n",
    "\n",
    "for i, m in it.product(range(len(fjss2.operations)), range(len(fjss2.machines))):\n",
    "    if var_y[i, m] == 1:\n",
    "        # TODO: fix this because operations is not a taks\n",
    "        # a task is a set of operations\n",
    "        df.loc[i, \"operation\"] = str(int(operations_ids[i]) + 1)\n",
    "        df.loc[i, \"Task\"] = operation_job_dict.get(operations_ids[i])\n",
    "        df.loc[i, \"Resource\"] = str(int(machine_ids[m]) + 1)\n",
    "        df.loc[i, \"Start\"] = var_s[i]\n",
    "        df.loc[i, \"Finish\"] = var_c[i]\n",
    "\n",
    "# df[\"Operation\"] = df[\"operation\"].apply(lambda x: operations.get(x))\n",
    "# # Task is the job\n",
    "# df[\"Task\"] = df[\"operation\"].apply(lambda x: operation_job_dict.get(x))\n",
    "\n",
    "df[\"Delta\"] = df[\"Finish\"] - df[\"Start\"]\n",
    "\n",
    "df = df.sort_values(by=\"Task\", ascending=False)\n",
    "df"
   ]
  },
  {
   "cell_type": "code",
   "execution_count": 15,
   "metadata": {},
   "outputs": [
    {
     "data": {
      "image/png": "[encoded data removed]",
      "text/plain": [
       "<Figure size 1000x500 with 1 Axes>"
      ]
     },
     "metadata": {},
     "output_type": "display_data"
    }
   ],
   "source": [
    "# put the machines in the y-axis, following the gantt chart from the previous cell\n",
    "# plot the gantt chart with data from df\n",
    "\n",
    "fig, ax = plt.subplots(figsize=(10, 5))\n",
    "\n",
    "# unique operations\n",
    "unique_operations = df[\"Task\"].unique()\n",
    "color_list = px.colors.qualitative.Dark24[: len(unique_operations)]\n",
    "color_dict = dict(zip(unique_operations, color_list))\n",
    "\n",
    "# color all the operations with the same color\n",
    "for idx, row in df.iterrows():\n",
    "    # Adding a lower bar - for the overall task duration\n",
    "    plt.barh(\n",
    "        y=row[\"Resource\"],\n",
    "        # y=row[\"operation\"],\n",
    "        width=row[\"Delta\"],\n",
    "        left=row[\"Start\"],\n",
    "        # color=color_dict.get(row[\"Task\"]),\n",
    "        # color=\"grey\",\n",
    "        alpha=0.4,\n",
    "        label=row[\"operation\"],\n",
    "    )\n",
    "\n",
    "#\n",
    "plt.gca().invert_yaxis()\n",
    "\n",
    "# # only keep unique labels and sort the labels and handles by labels\n",
    "# handles, labels = plt.gca().get_legend_handles_labels()\n",
    "# by_label = OrderedDict(zip(labels, handles))\n",
    "# # sort the labels and handles by labels\n",
    "# by_label = OrderedDict(sorted(by_label.items(), key=lambda item: item[0]))\n",
    "# plt.legend(\n",
    "#     by_label.values(),\n",
    "#     [tag.replace(\"OPERATION_\", \"\") for tag in by_label.keys()],\n",
    "#     title=\"Operations\",\n",
    "#     # loc=\"upper right\",\n",
    "#     # bbox_to_anchor=(1.30, 1.05),\n",
    "#     loc=\"lower center\",\n",
    "#     ncols=3,\n",
    "#     bbox_to_anchor=(0.5, -0.4),\n",
    "# )\n",
    "\n",
    "machines_id_name_dict = {i: machine for i, machine in machines.items()}\n",
    "# get y labels from ax.get_yticklabels\n",
    "y_ticks_old = ax.get_yticklabels()\n",
    "y_ticks_new = [fjss2.machines.get(y_label.get_text()) for y_label in y_ticks_old]\n",
    "# assign y_ticks_new as the new y labels\n",
    "# ax.set_yticklabels(y_ticks_new)\n",
    "\n",
    "plt.legend()\n",
    "plt.show()\n",
    "# plt.savefig(\"gantt_chart_case0_ws_all_operations.png\", dpi=300)"
   ]
  },
  {
   "cell_type": "code",
   "execution_count": 16,
   "metadata": {},
   "outputs": [
    {
     "data": {
      "text/html": [
       "<div>\n",
       "<style scoped>\n",
       "    .dataframe tbody tr th:only-of-type {\n",
       "        vertical-align: middle;\n",
       "    }\n",
       "\n",
       "    .dataframe tbody tr th {\n",
       "        vertical-align: top;\n",
       "    }\n",
       "\n",
       "    .dataframe thead th {\n",
       "        text-align: right;\n",
       "    }\n",
       "</style>\n",
       "<table border=\"1\" class=\"dataframe\">\n",
       "  <thead>\n",
       "    <tr style=\"text-align: right;\">\n",
       "      <th></th>\n",
       "      <th>Task</th>\n",
       "      <th>Resource</th>\n",
       "      <th>Start</th>\n",
       "      <th>Finish</th>\n",
       "      <th>operation</th>\n",
       "      <th>Delta</th>\n",
       "    </tr>\n",
       "  </thead>\n",
       "  <tbody>\n",
       "    <tr>\n",
       "      <th>2</th>\n",
       "      <td>2</td>\n",
       "      <td>3</td>\n",
       "      <td>0.0</td>\n",
       "      <td>5.0</td>\n",
       "      <td>3</td>\n",
       "      <td>5.0</td>\n",
       "    </tr>\n",
       "    <tr>\n",
       "      <th>3</th>\n",
       "      <td>2</td>\n",
       "      <td>2</td>\n",
       "      <td>7.0</td>\n",
       "      <td>17.0</td>\n",
       "      <td>4</td>\n",
       "      <td>10.0</td>\n",
       "    </tr>\n",
       "    <tr>\n",
       "      <th>4</th>\n",
       "      <td>2</td>\n",
       "      <td>1</td>\n",
       "      <td>19.0</td>\n",
       "      <td>24.0</td>\n",
       "      <td>5</td>\n",
       "      <td>5.0</td>\n",
       "    </tr>\n",
       "    <tr>\n",
       "      <th>0</th>\n",
       "      <td>1</td>\n",
       "      <td>1</td>\n",
       "      <td>0.0</td>\n",
       "      <td>5.0</td>\n",
       "      <td>1</td>\n",
       "      <td>5.0</td>\n",
       "    </tr>\n",
       "    <tr>\n",
       "      <th>1</th>\n",
       "      <td>1</td>\n",
       "      <td>2</td>\n",
       "      <td>8.0</td>\n",
       "      <td>18.0</td>\n",
       "      <td>2</td>\n",
       "      <td>10.0</td>\n",
       "    </tr>\n",
       "  </tbody>\n",
       "</table>\n",
       "</div>"
      ],
      "text/plain": [
       "  Task Resource Start Finish operation Delta\n",
       "2    2        3   0.0    5.0         3   5.0\n",
       "3    2        2   7.0   17.0         4  10.0\n",
       "4    2        1  19.0   24.0         5   5.0\n",
       "0    1        1   0.0    5.0         1   5.0\n",
       "1    1        2   8.0   18.0         2  10.0"
      ]
     },
     "execution_count": 16,
     "metadata": {},
     "output_type": "execute_result"
    }
   ],
   "source": [
    "df"
   ]
  },
  {
   "cell_type": "code",
   "execution_count": null,
   "metadata": {},
   "outputs": [],
   "source": []
  }
 ],
 "metadata": {
  "kernelspec": {
   "display_name": "gurobi_py311",
   "language": "python",
   "name": "python3"
  },
  "language_info": {
   "codemirror_mode": {
    "name": "ipython",
    "version": 3
   },
   "file_extension": ".py",
   "mimetype": "text/x-python",
   "name": "python",
   "nbconvert_exporter": "python",
   "pygments_lexer": "ipython3",
   "version": "3.11.7"
  }
 },
 "nbformat": 4,
 "nbformat_minor": 2
}
