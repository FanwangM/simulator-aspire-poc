{
 "cells": [
  {
   "cell_type": "code",
   "execution_count": 1,
   "metadata": {
    "ExecuteTime": {
     "end_time": "2023-12-11T02:18:17.537886Z",
     "start_time": "2023-12-11T02:18:17.075930Z"
    }
   },
   "outputs": [],
   "source": [
    "from fjss import FJSS2\n",
    "import numpy as np"
   ]
  },
  {
   "cell_type": "code",
   "execution_count": 2,
   "metadata": {
    "ExecuteTime": {
     "end_time": "2023-12-11T02:18:17.547703Z",
     "start_time": "2023-12-11T02:18:17.546071Z"
    }
   },
   "outputs": [],
   "source": [
    "# jobs_data is a list of tasks where task = (machine_id, processing_time)\n",
    "jobs_data = [\n",
    "    [(0, 5)],\n",
    "    [(3, 274)],\n",
    "    [(4, 274)],\n",
    "    [(5, 274)],\n",
    "    [(1, 5)],\n",
    "    [(3, 68)],\n",
    "    [(4, 68)],\n",
    "    [(5, 68)],\n",
    "    [(2, 10)],\n",
    "    [(3, 68)],\n",
    "    [(4, 68)],\n",
    "    [(5, 68)],\n",
    "    [(2, 10)],\n",
    "    [(3, 68)],\n",
    "    [(4, 68)],\n",
    "    [(5, 68)],\n",
    "    [(2, 10)],\n",
    "    [(0, 5)],\n",
    "    [(3, 324)],\n",
    "    [(4, 324)],\n",
    "    [(5, 324)],\n",
    "    [(1, 5)],\n",
    "    [(3, 81)],\n",
    "    [(4, 81)],\n",
    "    [(5, 81)],\n",
    "    [(2, 10)],\n",
    "    [(3, 81)],\n",
    "    [(4, 81)],\n",
    "    [(5, 81)],\n",
    "    [(2, 10)],\n",
    "    [(3, 81)],\n",
    "    [(4, 81)],\n",
    "    [(5, 81)],\n",
    "    [(2, 10)],\n",
    "    [(3, 81)],\n",
    "    [(4, 81)],\n",
    "    [(5, 81)],\n",
    "    [(2, 10)],\n",
    "    [(0, 5)],\n",
    "    [(3, 274)],\n",
    "    [(4, 274)],\n",
    "    [(5, 274)],\n",
    "    [(1, 5)],\n",
    "    [(3, 68)],\n",
    "    [(4, 68)],\n",
    "    [(5, 68)],\n",
    "    [(2, 10)],\n",
    "    [(3, 68)],\n",
    "    [(4, 68)],\n",
    "    [(5, 68)],\n",
    "    [(2, 10)],\n",
    "    [(3, 68)],\n",
    "    [(4, 68)],\n",
    "    [(5, 68)],\n",
    "    [(2, 10)],\n",
    "    [(0, 5)],\n",
    "    [(3, 281)],\n",
    "    [(4, 281)],\n",
    "    [(5, 281)],\n",
    "    [(1, 5)],\n",
    "    [(3, 70)],\n",
    "    [(4, 70)],\n",
    "    [(5, 70)],\n",
    "    [(2, 10)],\n",
    "    [(0, 5)],\n",
    "    [(3, 189)],\n",
    "    [(4, 189)],\n",
    "    [(5, 189)],\n",
    "    [(1, 5)],\n",
    "    [(3, 47)],\n",
    "    [(4, 47)],\n",
    "    [(5, 47)],\n",
    "    [(2, 10)],\n",
    "    [(3, 47)],\n",
    "    [(4, 47)],\n",
    "    [(5, 47)],\n",
    "    [(2, 10)],\n",
    "    [(3, 47)],\n",
    "    [(4, 47)],\n",
    "    [(5, 47)],\n",
    "    [(2, 10)],\n",
    "    [(3, 47)],\n",
    "    [(4, 47)],\n",
    "    [(5, 47)],\n",
    "    [(2, 10)],\n",
    "    [(0, 5)],\n",
    "    [(3, 189)],\n",
    "    [(4, 189)],\n",
    "    [(5, 189)],\n",
    "    [(1, 5)],\n",
    "    [(3, 47)],\n",
    "    [(4, 47)],\n",
    "    [(5, 47)],\n",
    "    [(2, 10)],\n",
    "    [(3, 47)],\n",
    "    [(4, 47)],\n",
    "    [(5, 47)],\n",
    "    [(2, 10)],\n",
    "    [(3, 47)],\n",
    "    [(4, 47)],\n",
    "    [(5, 47)],\n",
    "    [(2, 10)],\n",
    "    [(3, 47)],\n",
    "    [(4, 47)],\n",
    "    [(5, 47)],\n",
    "    [(2, 10)],\n",
    "    [(0, 5)],\n",
    "    [(3, 189)],\n",
    "    [(4, 189)],\n",
    "    [(5, 189)],\n",
    "    [(1, 5)],\n",
    "    [(3, 47)],\n",
    "    [(4, 47)],\n",
    "    [(5, 47)],\n",
    "    [(2, 10)],\n",
    "    [(3, 47)],\n",
    "    [(4, 47)],\n",
    "    [(5, 47)],\n",
    "    [(2, 10)],\n",
    "    [(3, 47)],\n",
    "    [(4, 47)],\n",
    "    [(5, 47)],\n",
    "    [(2, 10)],\n",
    "    [(3, 47)],\n",
    "    [(4, 47)],\n",
    "    [(5, 47)],\n",
    "    [(2, 10)],\n",
    "    [(0, 5)],\n",
    "    [(3, 274)],\n",
    "    [(4, 274)],\n",
    "    [(5, 274)],\n",
    "    [(1, 5)],\n",
    "    [(3, 68)],\n",
    "    [(4, 68)],\n",
    "    [(5, 68)],\n",
    "    [(2, 10)],\n",
    "    [(3, 68)],\n",
    "    [(4, 68)],\n",
    "    [(5, 68)],\n",
    "    [(2, 10)],\n",
    "    [(3, 68)],\n",
    "    [(4, 68)],\n",
    "    [(5, 68)],\n",
    "    [(2, 10)],\n",
    "    [(0, 5)],\n",
    "    [(3, 274)],\n",
    "    [(4, 274)],\n",
    "    [(5, 274)],\n",
    "    [(1, 5)],\n",
    "    [(3, 68)],\n",
    "    [(4, 68)],\n",
    "    [(5, 68)],\n",
    "    [(2, 10)],\n",
    "    [(3, 68)],\n",
    "    [(4, 68)],\n",
    "    [(5, 68)],\n",
    "    [(2, 10)],\n",
    "    [(3, 68)],\n",
    "    [(4, 68)],\n",
    "    [(5, 68)],\n",
    "    [(2, 10)],\n",
    "    [(0, 5)],\n",
    "    [(3, 274)],\n",
    "    [(4, 274)],\n",
    "    [(5, 274)],\n",
    "    [(1, 5)],\n",
    "    [(3, 68)],\n",
    "    [(4, 68)],\n",
    "    [(5, 68)],\n",
    "    [(2, 10)],\n",
    "    [(3, 68)],\n",
    "    [(4, 68)],\n",
    "    [(5, 68)],\n",
    "    [(2, 10)],\n",
    "    [(3, 68)],\n",
    "    [(4, 68)],\n",
    "    [(5, 68)],\n",
    "    [(2, 10)],\n",
    "]"
   ]
  },
  {
   "cell_type": "code",
   "execution_count": 3,
   "metadata": {
    "ExecuteTime": {
     "end_time": "2023-12-11T02:18:17.567103Z",
     "start_time": "2023-12-11T02:18:17.549454Z"
    }
   },
   "outputs": [],
   "source": [
    "# machines\n",
    "machines = [str(i) for i in range(6)]\n",
    "# operations\n",
    "operations = [str(i) for i in range(94)]\n",
    "\n",
    "# machine capacity\n",
    "para_mach_capacity = np.array([1, 1, 1, 5000, 5000, 5000])\n",
    "\n",
    "# load time_estimates,\n",
    "# processing time of operation i in machine m, shape = (n_opt, n_machines)\n",
    "# t[i][k] is the time cost of operation i on machine k, inf if i cannot be done by k\n",
    "time_estimates = np.load(\"fjss_cp_data/time_estimates.npz\", allow_pickle=True)[\"time_estimates\"]\n",
    "\n",
    "# load para_a\n",
    "# setup time of machine m when processing operation i before j\n",
    "# para_a = np.full((n_opt, n_opt, n_mach))\n",
    "para_a = np.load(\"fjss_cp_data/para_a.npz\", allow_pickle=True)[\"para_a\"]\n",
    "\n",
    "# para_p\n",
    "# processing time of operation i in machine m\n",
    "# para_p = np.full((n_opt, n_mach))\n",
    "para_p = np.load(\"fjss_cp_data/para_p.npz\", allow_pickle=True)[\"para_p\"]\n",
    "\n",
    "# load para_w\n",
    "# weight of operation i in machine m\n",
    "# para_w = np.full((n_opt, n_mach))\n",
    "para_w = np.load(\"fjss_cp_data/para_w.npz\", allow_pickle=True)[\"para_w\"]\n",
    "\n",
    "# load para_lmin\n",
    "# minimum processing time of operation i in machine m\n",
    "# para_lmin = np.full((n_opt, n_mach))\n",
    "para_lmin = np.load(\"fjss_cp_data/para_lmin.npz\", allow_pickle=True)[\"para_lmin\"]\n",
    "\n",
    "# load para_lmax\n",
    "# maximum processing time of operation i in machine m\n",
    "# para_lmax = np.full((n_opt, n_mach))\n",
    "para_lmax = np.load(\"fjss_cp_data/para_lmax.npz\", allow_pickle=True)[\"para_lmax\"]\n",
    "\n",
    "# The list of operation pairs that can overlap\n",
    "co_exist_set = [\"0,1\", \"3,4\"]\n",
    "\n",
    "# machine ids for the machines that allow overlapping\n",
    "allowed_overlapping_machine = [0, 1, 2]\n",
    "\n",
    "inf_cp = 1e10"
   ]
  },
  {
   "cell_type": "code",
   "execution_count": 4,
   "metadata": {
    "ExecuteTime": {
     "end_time": "2023-12-11T02:18:17.570257Z",
     "start_time": "2023-12-11T02:18:17.568447Z"
    }
   },
   "outputs": [],
   "source": [
    "fjss2 = FJSS2(\n",
    "        operations=operations,\n",
    "        machines=machines,\n",
    "        para_p=para_p,\n",
    "        para_a=para_a,\n",
    "        para_w=para_w,\n",
    "        para_mach_capacity=para_mach_capacity,\n",
    "        para_lmin=para_lmin,\n",
    "        para_lmax=para_lmax,\n",
    "        jobs_data=jobs_data,\n",
    "        precedence=None,\n",
    "        co_exist_set=co_exist_set,\n",
    "        allowed_overlapping_machine=allowed_overlapping_machine,\n",
    "        model_string=None,\n",
    "        inf_cp=inf_cp,\n",
    ")"
   ]
  },
  {
   "cell_type": "code",
   "execution_count": 5,
   "metadata": {
    "ExecuteTime": {
     "end_time": "2023-12-11T02:18:18.244336Z",
     "start_time": "2023-12-11T02:18:17.590719Z"
    }
   },
   "outputs": [
    {
     "data": {
      "text/plain": "<ortools.sat.python.cp_model.CpModel at 0x10aaf9090>"
     },
     "execution_count": 5,
     "metadata": {},
     "output_type": "execute_result"
    }
   ],
   "source": [
    "fjss2.build_model_ortools()"
   ]
  },
  {
   "cell_type": "code",
   "execution_count": 6,
   "outputs": [
    {
     "name": "stdout",
     "output_type": "stream",
     "text": [
      "Solution:\n",
      "Optimal Schedule Length: 324.0\n",
      "Machine 0: job_0_task_0   job_17_task_0  job_38_task_0  job_55_task_0  job_64_task_0  job_85_task_0  job_106_task_0 job_127_task_0 job_144_task_0 job_161_task_0 \n",
      "           [10,15]        [10,15]        [10,15]        [10,15]        [10,15]        [10,15]        [10,15]        [10,15]        [10,15]        [10,15]        \n",
      "Machine 1: job_4_task_0   job_21_task_0  job_42_task_0  job_59_task_0  job_68_task_0  job_89_task_0  job_110_task_0 job_131_task_0 job_148_task_0 job_165_task_0 \n",
      "           [15,20]        [15,20]        [15,20]        [15,20]        [15,20]        [15,20]        [15,20]        [15,20]        [15,20]        [15,20]        \n",
      "Machine 2: job_8_task_0   job_12_task_0  job_16_task_0  job_25_task_0  job_29_task_0  job_33_task_0  job_37_task_0  job_46_task_0  job_50_task_0  job_54_task_0  job_63_task_0  job_72_task_0  job_76_task_0  job_80_task_0  job_84_task_0  job_93_task_0  job_97_task_0  job_101_task_0 job_105_task_0 job_114_task_0 job_118_task_0 job_122_task_0 job_126_task_0 job_135_task_0 job_139_task_0 job_143_task_0 job_152_task_0 job_156_task_0 job_160_task_0 job_169_task_0 job_173_task_0 job_177_task_0 \n",
      "           [0,10]         [0,10]         [0,10]         [0,10]         [0,10]         [0,10]         [0,10]         [0,10]         [0,10]         [0,10]         [0,10]         [0,10]         [0,10]         [0,10]         [0,10]         [0,10]         [0,10]         [0,10]         [0,10]         [0,10]         [0,10]         [0,10]         [0,10]         [0,10]         [0,10]         [0,10]         [0,10]         [0,10]         [0,10]         [0,10]         [0,10]         [0,10]         \n",
      "Machine 3: job_1_task_0   job_5_task_0   job_9_task_0   job_13_task_0  job_18_task_0  job_22_task_0  job_26_task_0  job_30_task_0  job_34_task_0  job_39_task_0  job_43_task_0  job_47_task_0  job_51_task_0  job_56_task_0  job_60_task_0  job_65_task_0  job_69_task_0  job_73_task_0  job_77_task_0  job_81_task_0  job_86_task_0  job_90_task_0  job_94_task_0  job_98_task_0  job_102_task_0 job_107_task_0 job_111_task_0 job_115_task_0 job_119_task_0 job_123_task_0 job_128_task_0 job_132_task_0 job_136_task_0 job_140_task_0 job_145_task_0 job_149_task_0 job_153_task_0 job_157_task_0 job_162_task_0 job_166_task_0 job_170_task_0 job_174_task_0 \n",
      "           [0,274]        [0,68]         [0,68]         [0,68]         [0,324]        [0,81]         [0,81]         [0,81]         [0,81]         [0,274]        [0,68]         [0,68]         [0,68]         [0,281]        [0,70]         [0,189]        [0,47]         [0,47]         [0,47]         [0,47]         [0,189]        [0,47]         [0,47]         [0,47]         [0,47]         [0,189]        [0,47]         [0,47]         [0,47]         [0,47]         [0,274]        [0,68]         [0,68]         [0,68]         [0,274]        [0,68]         [0,68]         [0,68]         [0,274]        [0,68]         [0,68]         [0,68]         \n",
      "Machine 4: job_2_task_0   job_6_task_0   job_10_task_0  job_14_task_0  job_19_task_0  job_23_task_0  job_27_task_0  job_31_task_0  job_35_task_0  job_40_task_0  job_44_task_0  job_48_task_0  job_52_task_0  job_57_task_0  job_61_task_0  job_66_task_0  job_70_task_0  job_74_task_0  job_78_task_0  job_82_task_0  job_87_task_0  job_91_task_0  job_95_task_0  job_99_task_0  job_103_task_0 job_108_task_0 job_112_task_0 job_116_task_0 job_120_task_0 job_124_task_0 job_129_task_0 job_133_task_0 job_137_task_0 job_141_task_0 job_146_task_0 job_150_task_0 job_154_task_0 job_158_task_0 job_163_task_0 job_167_task_0 job_171_task_0 job_175_task_0 \n",
      "           [0,274]        [0,68]         [0,68]         [0,68]         [0,324]        [0,81]         [0,81]         [0,81]         [0,81]         [0,274]        [0,68]         [0,68]         [0,68]         [0,281]        [0,70]         [0,189]        [0,47]         [0,47]         [0,47]         [0,47]         [0,189]        [0,47]         [0,47]         [0,47]         [0,47]         [0,189]        [0,47]         [0,47]         [0,47]         [0,47]         [0,274]        [0,68]         [0,68]         [0,68]         [0,274]        [0,68]         [0,68]         [0,68]         [0,274]        [0,68]         [0,68]         [0,68]         \n",
      "Machine 5: job_3_task_0   job_7_task_0   job_11_task_0  job_15_task_0  job_20_task_0  job_24_task_0  job_28_task_0  job_32_task_0  job_36_task_0  job_41_task_0  job_45_task_0  job_49_task_0  job_53_task_0  job_58_task_0  job_62_task_0  job_67_task_0  job_71_task_0  job_75_task_0  job_79_task_0  job_83_task_0  job_88_task_0  job_92_task_0  job_96_task_0  job_100_task_0 job_104_task_0 job_109_task_0 job_113_task_0 job_117_task_0 job_121_task_0 job_125_task_0 job_130_task_0 job_134_task_0 job_138_task_0 job_142_task_0 job_147_task_0 job_151_task_0 job_155_task_0 job_159_task_0 job_164_task_0 job_168_task_0 job_172_task_0 job_176_task_0 \n",
      "           [0,274]        [0,68]         [0,68]         [0,68]         [0,324]        [0,81]         [0,81]         [0,81]         [0,81]         [0,274]        [0,68]         [0,68]         [0,68]         [0,281]        [0,70]         [0,189]        [0,47]         [0,47]         [0,47]         [0,47]         [0,189]        [0,47]         [0,47]         [0,47]         [0,47]         [0,189]        [0,47]         [0,47]         [0,47]         [0,47]         [0,274]        [0,68]         [0,68]         [0,68]         [0,274]        [0,68]         [0,68]         [0,68]         [0,274]        [0,68]         [0,68]         [0,68]         \n",
      "\n",
      "\n",
      "Statistics\n",
      "  - conflicts: 0\n",
      "  - branches : 0\n",
      "  - wall time: 2.843414s\n"
     ]
    }
   ],
   "source": [
    "fjss_output = fjss2.solve_ortools()"
   ],
   "metadata": {
    "collapsed": false,
    "ExecuteTime": {
     "end_time": "2023-12-11T02:18:21.106928Z",
     "start_time": "2023-12-11T02:18:18.255245Z"
    }
   }
  },
  {
   "cell_type": "code",
   "execution_count": 7,
   "metadata": {
    "ExecuteTime": {
     "end_time": "2023-12-11T02:18:21.111026Z",
     "start_time": "2023-12-11T02:18:21.107993Z"
    }
   },
   "outputs": [
    {
     "data": {
      "text/plain": "FjsOutput(solved_operations=[SolvedOperation(id='job_0_task_0', assigned_to='0', start_time=10.0, end_time=15.0), SolvedOperation(id='job_1_task_0', assigned_to='3', start_time=0.0, end_time=274.0), SolvedOperation(id='job_2_task_0', assigned_to='4', start_time=0.0, end_time=274.0), SolvedOperation(id='job_3_task_0', assigned_to='5', start_time=0.0, end_time=274.0), SolvedOperation(id='job_4_task_0', assigned_to='1', start_time=15.0, end_time=20.0), SolvedOperation(id='job_5_task_0', assigned_to='3', start_time=0.0, end_time=68.0), SolvedOperation(id='job_6_task_0', assigned_to='4', start_time=0.0, end_time=68.0), SolvedOperation(id='job_7_task_0', assigned_to='5', start_time=0.0, end_time=68.0), SolvedOperation(id='job_8_task_0', assigned_to='2', start_time=0.0, end_time=10.0), SolvedOperation(id='job_9_task_0', assigned_to='3', start_time=0.0, end_time=68.0), SolvedOperation(id='job_10_task_0', assigned_to='4', start_time=0.0, end_time=68.0), SolvedOperation(id='job_11_task_0', assigned_to='5', start_time=0.0, end_time=68.0), SolvedOperation(id='job_12_task_0', assigned_to='2', start_time=0.0, end_time=10.0), SolvedOperation(id='job_13_task_0', assigned_to='3', start_time=0.0, end_time=68.0), SolvedOperation(id='job_14_task_0', assigned_to='4', start_time=0.0, end_time=68.0), SolvedOperation(id='job_15_task_0', assigned_to='5', start_time=0.0, end_time=68.0), SolvedOperation(id='job_16_task_0', assigned_to='2', start_time=0.0, end_time=10.0), SolvedOperation(id='job_17_task_0', assigned_to='0', start_time=10.0, end_time=15.0), SolvedOperation(id='job_18_task_0', assigned_to='3', start_time=0.0, end_time=324.0), SolvedOperation(id='job_19_task_0', assigned_to='4', start_time=0.0, end_time=324.0), SolvedOperation(id='job_20_task_0', assigned_to='5', start_time=0.0, end_time=324.0), SolvedOperation(id='job_21_task_0', assigned_to='1', start_time=15.0, end_time=20.0), SolvedOperation(id='job_22_task_0', assigned_to='3', start_time=0.0, end_time=81.0), SolvedOperation(id='job_23_task_0', assigned_to='4', start_time=0.0, end_time=81.0), SolvedOperation(id='job_24_task_0', assigned_to='5', start_time=0.0, end_time=81.0), SolvedOperation(id='job_25_task_0', assigned_to='2', start_time=0.0, end_time=10.0), SolvedOperation(id='job_26_task_0', assigned_to='3', start_time=0.0, end_time=81.0), SolvedOperation(id='job_27_task_0', assigned_to='4', start_time=0.0, end_time=81.0), SolvedOperation(id='job_28_task_0', assigned_to='5', start_time=0.0, end_time=81.0), SolvedOperation(id='job_29_task_0', assigned_to='2', start_time=0.0, end_time=10.0), SolvedOperation(id='job_30_task_0', assigned_to='3', start_time=0.0, end_time=81.0), SolvedOperation(id='job_31_task_0', assigned_to='4', start_time=0.0, end_time=81.0), SolvedOperation(id='job_32_task_0', assigned_to='5', start_time=0.0, end_time=81.0), SolvedOperation(id='job_33_task_0', assigned_to='2', start_time=0.0, end_time=10.0), SolvedOperation(id='job_34_task_0', assigned_to='3', start_time=0.0, end_time=81.0), SolvedOperation(id='job_35_task_0', assigned_to='4', start_time=0.0, end_time=81.0), SolvedOperation(id='job_36_task_0', assigned_to='5', start_time=0.0, end_time=81.0), SolvedOperation(id='job_37_task_0', assigned_to='2', start_time=0.0, end_time=10.0), SolvedOperation(id='job_38_task_0', assigned_to='0', start_time=10.0, end_time=15.0), SolvedOperation(id='job_39_task_0', assigned_to='3', start_time=0.0, end_time=274.0), SolvedOperation(id='job_40_task_0', assigned_to='4', start_time=0.0, end_time=274.0), SolvedOperation(id='job_41_task_0', assigned_to='5', start_time=0.0, end_time=274.0), SolvedOperation(id='job_42_task_0', assigned_to='1', start_time=15.0, end_time=20.0), SolvedOperation(id='job_43_task_0', assigned_to='3', start_time=0.0, end_time=68.0), SolvedOperation(id='job_44_task_0', assigned_to='4', start_time=0.0, end_time=68.0), SolvedOperation(id='job_45_task_0', assigned_to='5', start_time=0.0, end_time=68.0), SolvedOperation(id='job_46_task_0', assigned_to='2', start_time=0.0, end_time=10.0), SolvedOperation(id='job_47_task_0', assigned_to='3', start_time=0.0, end_time=68.0), SolvedOperation(id='job_48_task_0', assigned_to='4', start_time=0.0, end_time=68.0), SolvedOperation(id='job_49_task_0', assigned_to='5', start_time=0.0, end_time=68.0), SolvedOperation(id='job_50_task_0', assigned_to='2', start_time=0.0, end_time=10.0), SolvedOperation(id='job_51_task_0', assigned_to='3', start_time=0.0, end_time=68.0), SolvedOperation(id='job_52_task_0', assigned_to='4', start_time=0.0, end_time=68.0), SolvedOperation(id='job_53_task_0', assigned_to='5', start_time=0.0, end_time=68.0), SolvedOperation(id='job_54_task_0', assigned_to='2', start_time=0.0, end_time=10.0), SolvedOperation(id='job_55_task_0', assigned_to='0', start_time=10.0, end_time=15.0), SolvedOperation(id='job_56_task_0', assigned_to='3', start_time=0.0, end_time=281.0), SolvedOperation(id='job_57_task_0', assigned_to='4', start_time=0.0, end_time=281.0), SolvedOperation(id='job_58_task_0', assigned_to='5', start_time=0.0, end_time=281.0), SolvedOperation(id='job_59_task_0', assigned_to='1', start_time=15.0, end_time=20.0), SolvedOperation(id='job_60_task_0', assigned_to='3', start_time=0.0, end_time=70.0), SolvedOperation(id='job_61_task_0', assigned_to='4', start_time=0.0, end_time=70.0), SolvedOperation(id='job_62_task_0', assigned_to='5', start_time=0.0, end_time=70.0), SolvedOperation(id='job_63_task_0', assigned_to='2', start_time=0.0, end_time=10.0), SolvedOperation(id='job_64_task_0', assigned_to='0', start_time=10.0, end_time=15.0), SolvedOperation(id='job_65_task_0', assigned_to='3', start_time=0.0, end_time=189.0), SolvedOperation(id='job_66_task_0', assigned_to='4', start_time=0.0, end_time=189.0), SolvedOperation(id='job_67_task_0', assigned_to='5', start_time=0.0, end_time=189.0), SolvedOperation(id='job_68_task_0', assigned_to='1', start_time=15.0, end_time=20.0), SolvedOperation(id='job_69_task_0', assigned_to='3', start_time=0.0, end_time=47.0), SolvedOperation(id='job_70_task_0', assigned_to='4', start_time=0.0, end_time=47.0), SolvedOperation(id='job_71_task_0', assigned_to='5', start_time=0.0, end_time=47.0), SolvedOperation(id='job_72_task_0', assigned_to='2', start_time=0.0, end_time=10.0), SolvedOperation(id='job_73_task_0', assigned_to='3', start_time=0.0, end_time=47.0), SolvedOperation(id='job_74_task_0', assigned_to='4', start_time=0.0, end_time=47.0), SolvedOperation(id='job_75_task_0', assigned_to='5', start_time=0.0, end_time=47.0), SolvedOperation(id='job_76_task_0', assigned_to='2', start_time=0.0, end_time=10.0), SolvedOperation(id='job_77_task_0', assigned_to='3', start_time=0.0, end_time=47.0), SolvedOperation(id='job_78_task_0', assigned_to='4', start_time=0.0, end_time=47.0), SolvedOperation(id='job_79_task_0', assigned_to='5', start_time=0.0, end_time=47.0), SolvedOperation(id='job_80_task_0', assigned_to='2', start_time=0.0, end_time=10.0), SolvedOperation(id='job_81_task_0', assigned_to='3', start_time=0.0, end_time=47.0), SolvedOperation(id='job_82_task_0', assigned_to='4', start_time=0.0, end_time=47.0), SolvedOperation(id='job_83_task_0', assigned_to='5', start_time=0.0, end_time=47.0), SolvedOperation(id='job_84_task_0', assigned_to='2', start_time=0.0, end_time=10.0), SolvedOperation(id='job_85_task_0', assigned_to='0', start_time=10.0, end_time=15.0), SolvedOperation(id='job_86_task_0', assigned_to='3', start_time=0.0, end_time=189.0), SolvedOperation(id='job_87_task_0', assigned_to='4', start_time=0.0, end_time=189.0), SolvedOperation(id='job_88_task_0', assigned_to='5', start_time=0.0, end_time=189.0), SolvedOperation(id='job_89_task_0', assigned_to='1', start_time=15.0, end_time=20.0), SolvedOperation(id='job_90_task_0', assigned_to='3', start_time=0.0, end_time=47.0), SolvedOperation(id='job_91_task_0', assigned_to='4', start_time=0.0, end_time=47.0), SolvedOperation(id='job_92_task_0', assigned_to='5', start_time=0.0, end_time=47.0), SolvedOperation(id='job_93_task_0', assigned_to='2', start_time=0.0, end_time=10.0), SolvedOperation(id='job_94_task_0', assigned_to='3', start_time=0.0, end_time=47.0), SolvedOperation(id='job_95_task_0', assigned_to='4', start_time=0.0, end_time=47.0), SolvedOperation(id='job_96_task_0', assigned_to='5', start_time=0.0, end_time=47.0), SolvedOperation(id='job_97_task_0', assigned_to='2', start_time=0.0, end_time=10.0), SolvedOperation(id='job_98_task_0', assigned_to='3', start_time=0.0, end_time=47.0), SolvedOperation(id='job_99_task_0', assigned_to='4', start_time=0.0, end_time=47.0), SolvedOperation(id='job_100_task_0', assigned_to='5', start_time=0.0, end_time=47.0), SolvedOperation(id='job_101_task_0', assigned_to='2', start_time=0.0, end_time=10.0), SolvedOperation(id='job_102_task_0', assigned_to='3', start_time=0.0, end_time=47.0), SolvedOperation(id='job_103_task_0', assigned_to='4', start_time=0.0, end_time=47.0), SolvedOperation(id='job_104_task_0', assigned_to='5', start_time=0.0, end_time=47.0), SolvedOperation(id='job_105_task_0', assigned_to='2', start_time=0.0, end_time=10.0), SolvedOperation(id='job_106_task_0', assigned_to='0', start_time=10.0, end_time=15.0), SolvedOperation(id='job_107_task_0', assigned_to='3', start_time=0.0, end_time=189.0), SolvedOperation(id='job_108_task_0', assigned_to='4', start_time=0.0, end_time=189.0), SolvedOperation(id='job_109_task_0', assigned_to='5', start_time=0.0, end_time=189.0), SolvedOperation(id='job_110_task_0', assigned_to='1', start_time=15.0, end_time=20.0), SolvedOperation(id='job_111_task_0', assigned_to='3', start_time=0.0, end_time=47.0), SolvedOperation(id='job_112_task_0', assigned_to='4', start_time=0.0, end_time=47.0), SolvedOperation(id='job_113_task_0', assigned_to='5', start_time=0.0, end_time=47.0), SolvedOperation(id='job_114_task_0', assigned_to='2', start_time=0.0, end_time=10.0), SolvedOperation(id='job_115_task_0', assigned_to='3', start_time=0.0, end_time=47.0), SolvedOperation(id='job_116_task_0', assigned_to='4', start_time=0.0, end_time=47.0), SolvedOperation(id='job_117_task_0', assigned_to='5', start_time=0.0, end_time=47.0), SolvedOperation(id='job_118_task_0', assigned_to='2', start_time=0.0, end_time=10.0), SolvedOperation(id='job_119_task_0', assigned_to='3', start_time=0.0, end_time=47.0), SolvedOperation(id='job_120_task_0', assigned_to='4', start_time=0.0, end_time=47.0), SolvedOperation(id='job_121_task_0', assigned_to='5', start_time=0.0, end_time=47.0), SolvedOperation(id='job_122_task_0', assigned_to='2', start_time=0.0, end_time=10.0), SolvedOperation(id='job_123_task_0', assigned_to='3', start_time=0.0, end_time=47.0), SolvedOperation(id='job_124_task_0', assigned_to='4', start_time=0.0, end_time=47.0), SolvedOperation(id='job_125_task_0', assigned_to='5', start_time=0.0, end_time=47.0), SolvedOperation(id='job_126_task_0', assigned_to='2', start_time=0.0, end_time=10.0), SolvedOperation(id='job_127_task_0', assigned_to='0', start_time=10.0, end_time=15.0), SolvedOperation(id='job_128_task_0', assigned_to='3', start_time=0.0, end_time=274.0), SolvedOperation(id='job_129_task_0', assigned_to='4', start_time=0.0, end_time=274.0), SolvedOperation(id='job_130_task_0', assigned_to='5', start_time=0.0, end_time=274.0), SolvedOperation(id='job_131_task_0', assigned_to='1', start_time=15.0, end_time=20.0), SolvedOperation(id='job_132_task_0', assigned_to='3', start_time=0.0, end_time=68.0), SolvedOperation(id='job_133_task_0', assigned_to='4', start_time=0.0, end_time=68.0), SolvedOperation(id='job_134_task_0', assigned_to='5', start_time=0.0, end_time=68.0), SolvedOperation(id='job_135_task_0', assigned_to='2', start_time=0.0, end_time=10.0), SolvedOperation(id='job_136_task_0', assigned_to='3', start_time=0.0, end_time=68.0), SolvedOperation(id='job_137_task_0', assigned_to='4', start_time=0.0, end_time=68.0), SolvedOperation(id='job_138_task_0', assigned_to='5', start_time=0.0, end_time=68.0), SolvedOperation(id='job_139_task_0', assigned_to='2', start_time=0.0, end_time=10.0), SolvedOperation(id='job_140_task_0', assigned_to='3', start_time=0.0, end_time=68.0), SolvedOperation(id='job_141_task_0', assigned_to='4', start_time=0.0, end_time=68.0), SolvedOperation(id='job_142_task_0', assigned_to='5', start_time=0.0, end_time=68.0), SolvedOperation(id='job_143_task_0', assigned_to='2', start_time=0.0, end_time=10.0), SolvedOperation(id='job_144_task_0', assigned_to='0', start_time=10.0, end_time=15.0), SolvedOperation(id='job_145_task_0', assigned_to='3', start_time=0.0, end_time=274.0), SolvedOperation(id='job_146_task_0', assigned_to='4', start_time=0.0, end_time=274.0), SolvedOperation(id='job_147_task_0', assigned_to='5', start_time=0.0, end_time=274.0), SolvedOperation(id='job_148_task_0', assigned_to='1', start_time=15.0, end_time=20.0), SolvedOperation(id='job_149_task_0', assigned_to='3', start_time=0.0, end_time=68.0), SolvedOperation(id='job_150_task_0', assigned_to='4', start_time=0.0, end_time=68.0), SolvedOperation(id='job_151_task_0', assigned_to='5', start_time=0.0, end_time=68.0), SolvedOperation(id='job_152_task_0', assigned_to='2', start_time=0.0, end_time=10.0), SolvedOperation(id='job_153_task_0', assigned_to='3', start_time=0.0, end_time=68.0), SolvedOperation(id='job_154_task_0', assigned_to='4', start_time=0.0, end_time=68.0), SolvedOperation(id='job_155_task_0', assigned_to='5', start_time=0.0, end_time=68.0), SolvedOperation(id='job_156_task_0', assigned_to='2', start_time=0.0, end_time=10.0), SolvedOperation(id='job_157_task_0', assigned_to='3', start_time=0.0, end_time=68.0), SolvedOperation(id='job_158_task_0', assigned_to='4', start_time=0.0, end_time=68.0), SolvedOperation(id='job_159_task_0', assigned_to='5', start_time=0.0, end_time=68.0), SolvedOperation(id='job_160_task_0', assigned_to='2', start_time=0.0, end_time=10.0), SolvedOperation(id='job_161_task_0', assigned_to='0', start_time=10.0, end_time=15.0), SolvedOperation(id='job_162_task_0', assigned_to='3', start_time=0.0, end_time=274.0), SolvedOperation(id='job_163_task_0', assigned_to='4', start_time=0.0, end_time=274.0), SolvedOperation(id='job_164_task_0', assigned_to='5', start_time=0.0, end_time=274.0), SolvedOperation(id='job_165_task_0', assigned_to='1', start_time=15.0, end_time=20.0), SolvedOperation(id='job_166_task_0', assigned_to='3', start_time=0.0, end_time=68.0), SolvedOperation(id='job_167_task_0', assigned_to='4', start_time=0.0, end_time=68.0), SolvedOperation(id='job_168_task_0', assigned_to='5', start_time=0.0, end_time=68.0), SolvedOperation(id='job_169_task_0', assigned_to='2', start_time=0.0, end_time=10.0), SolvedOperation(id='job_170_task_0', assigned_to='3', start_time=0.0, end_time=68.0), SolvedOperation(id='job_171_task_0', assigned_to='4', start_time=0.0, end_time=68.0), SolvedOperation(id='job_172_task_0', assigned_to='5', start_time=0.0, end_time=68.0), SolvedOperation(id='job_173_task_0', assigned_to='2', start_time=0.0, end_time=10.0), SolvedOperation(id='job_174_task_0', assigned_to='3', start_time=0.0, end_time=68.0), SolvedOperation(id='job_175_task_0', assigned_to='4', start_time=0.0, end_time=68.0), SolvedOperation(id='job_176_task_0', assigned_to='5', start_time=0.0, end_time=68.0), SolvedOperation(id='job_177_task_0', assigned_to='2', start_time=0.0, end_time=10.0)], makespan=324.0)"
     },
     "execution_count": 7,
     "metadata": {},
     "output_type": "execute_result"
    }
   ],
   "source": [
    "fjss_output"
   ]
  },
  {
   "cell_type": "code",
   "execution_count": 7,
   "metadata": {
    "ExecuteTime": {
     "end_time": "2023-12-11T02:18:21.112355Z",
     "start_time": "2023-12-11T02:18:21.110436Z"
    }
   },
   "outputs": [],
   "source": []
  }
 ],
 "metadata": {
  "kernelspec": {
   "display_name": "solver_py311",
   "language": "python",
   "name": "python3"
  },
  "language_info": {
   "codemirror_mode": {
    "name": "ipython",
    "version": 3
   },
   "file_extension": ".py",
   "mimetype": "text/x-python",
   "name": "python",
   "nbconvert_exporter": "python",
   "pygments_lexer": "ipython3",
   "version": "3.11.6"
  }
 },
 "nbformat": 4,
 "nbformat_minor": 2
}
